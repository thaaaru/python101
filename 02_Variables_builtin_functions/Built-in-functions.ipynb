{
 "cells": [
  {
   "cell_type": "markdown",
   "id": "82a90d67-71e6-4b9c-bacd-d1aa9b1263b4",
   "metadata": {},
   "source": [
    "<div align=\"center\">\n",
    "  <h1>02 - Variables, Builtin Functions - Part 02</h1>\n",
    "\n",
    "<sub>Author  :   Tharaka Mahabage   <br> <small> First Edition: April, 2024</small>\n",
    "</sub>\n",
    "</div>\n",
    "\n",
    "[<<_2](../02_Variables_builtin_functions/02_variables_builtin_functions.ipynb) | [03_Operators>>](../03_Operators/03_operators.ipynb)"
   ]
  },
  {
   "cell_type": "code",
   "execution_count": 2,
   "id": "7425dec4-ea78-493a-a133-1ad0df18c158",
   "metadata": {},
   "outputs": [
    {
     "name": "stdout",
     "output_type": "stream",
     "text": [
      "5\n"
     ]
    }
   ],
   "source": [
    "# abs() - Returns the absolute value of a number:\n",
    "print(abs(-5))  # Output: 5"
   ]
  },
  {
   "cell_type": "code",
   "execution_count": 3,
   "id": "b29fbbf5-8f8e-4c3b-9139-d9667d178207",
   "metadata": {},
   "outputs": [
    {
     "name": "stdout",
     "output_type": "stream",
     "text": [
      "True\n"
     ]
    }
   ],
   "source": [
    "# all() - Returns True if all elements of the iterable are true (or if the iterable is empty):\n",
    "print(all([1, 2, 3, 4]))  # Output: True"
   ]
  },
  {
   "cell_type": "code",
   "execution_count": 4,
   "id": "6d342121-cdc5-4e62-aa86-d3ffec7b68ab",
   "metadata": {},
   "outputs": [
    {
     "name": "stdout",
     "output_type": "stream",
     "text": [
      "True\n"
     ]
    }
   ],
   "source": [
    "# any() - Returns True if any element of the iterable is true. If the iterable is empty, return False:\n",
    "print(any([0, 0, 0, 1]))  # Output: True"
   ]
  },
  {
   "cell_type": "code",
   "execution_count": 5,
   "id": "051a1821-f6fa-48ca-be4f-e4a34038ff74",
   "metadata": {},
   "outputs": [
    {
     "name": "stdout",
     "output_type": "stream",
     "text": [
      "'\\u0160p\\xe5rk'\n"
     ]
    }
   ],
   "source": [
    "# ascii() - Returns a string containing a printable representation of an object and escapes the non-ASCII characters in the string using \\x, \\u or \\U escapes:\n",
    "print(ascii(\"Špårk\"))  # Output: '\\u0160p\\u00e5rk'"
   ]
  },
  {
   "cell_type": "code",
   "execution_count": 8,
   "id": "416d11f9-6e8b-450f-8825-26b6af824ce5",
   "metadata": {},
   "outputs": [
    {
     "name": "stdout",
     "output_type": "stream",
     "text": [
      "0b1100\n"
     ]
    }
   ],
   "source": [
    "#  bin() - Converts an integer number to a binary string:\n",
    "print(bin(12))  # Output: '0b1100'"
   ]
  },
  {
   "cell_type": "code",
   "execution_count": 9,
   "id": "d1cdde66-8653-45c3-af98-33604b302ad6",
   "metadata": {},
   "outputs": [
    {
     "name": "stdout",
     "output_type": "stream",
     "text": [
      "False\n"
     ]
    }
   ],
   "source": [
    "# bool() - Converts a value to Boolean (True or False) using the standard truth testing procedure:\n",
    "print(bool(0))  # Output: False"
   ]
  },
  {
   "cell_type": "code",
   "execution_count": 10,
   "id": "c294cc3c-77ab-4008-8d24-db5f465df558",
   "metadata": {},
   "outputs": [
    {
     "name": "stdout",
     "output_type": "stream",
     "text": [
      "bytearray(b'\\x01\\x02\\x03')\n"
     ]
    }
   ],
   "source": [
    "# bytearray() - Returns a new array of bytes:\n",
    "print(bytearray([1, 2, 3]))  # Output: bytearray(b'\\x01\\x02\\x03')"
   ]
  },
  {
   "cell_type": "code",
   "execution_count": 11,
   "id": "1b1c5015-571d-4e4c-bb1e-fcd1557f5e16",
   "metadata": {},
   "outputs": [
    {
     "name": "stdout",
     "output_type": "stream",
     "text": [
      "b'\\x01\\x02\\x03'\n"
     ]
    }
   ],
   "source": [
    "# bytes() - Returns a new “bytes” object which is an immutable sequence of integers in the range 0 <= x < 256:\n",
    "print(bytes([1, 2, 3]))  # Output: b'\\x01\\x02\\x03'"
   ]
  },
  {
   "cell_type": "code",
   "execution_count": 12,
   "id": "27a5cc39-1890-4b5c-8e86-d870ba7394db",
   "metadata": {},
   "outputs": [
    {
     "name": "stdout",
     "output_type": "stream",
     "text": [
      "True\n"
     ]
    }
   ],
   "source": [
    "# callable() - Checks if the object appears callable (i.e., if it can be called as a function):\n",
    "\n",
    "def foo():\n",
    "    pass\n",
    "print(callable(foo))  # Output: True"
   ]
  },
  {
   "cell_type": "code",
   "execution_count": 13,
   "id": "5a83c886-315c-4579-9821-0d69d3429e87",
   "metadata": {},
   "outputs": [
    {
     "name": "stdout",
     "output_type": "stream",
     "text": [
      "a\n"
     ]
    }
   ],
   "source": [
    "# chr() - Returns a string representing a character whose Unicode code point is the integer i:\n",
    "\n",
    "print(chr(97))  # Output: 'a'"
   ]
  },
  {
   "cell_type": "code",
   "execution_count": 14,
   "id": "0568a560-77b4-4a3a-ae7c-a1c180c16ed1",
   "metadata": {},
   "outputs": [
    {
     "name": "stdout",
     "output_type": "stream",
     "text": [
      "<class '__main__.C'> 3\n"
     ]
    }
   ],
   "source": [
    "# classmethod() - Converts a method into a class method:\n",
    "\n",
    "class C:\n",
    "    @classmethod\n",
    "    def f(cls, arg1):\n",
    "        print(cls, arg1)\n",
    "C.f(3)  # Output: <class '__main__.C'> 3"
   ]
  },
  {
   "cell_type": "code",
   "execution_count": 15,
   "id": "d90b894a-04c5-4cc7-8d94-7728e43eccfc",
   "metadata": {},
   "outputs": [
    {
     "name": "stdout",
     "output_type": "stream",
     "text": [
      "55\n"
     ]
    }
   ],
   "source": [
    "# compile() - Compiles source into a code or AST object:\n",
    "\n",
    "code = compile('print(55)', 'test', 'exec')\n",
    "exec(code)  # Output: 55"
   ]
  },
  {
   "cell_type": "code",
   "execution_count": 16,
   "id": "d8780670-32ae-4f5f-8f86-ca7f175bebf1",
   "metadata": {},
   "outputs": [
    {
     "name": "stdout",
     "output_type": "stream",
     "text": [
      "(1+2j)\n"
     ]
    }
   ],
   "source": [
    "# complex() - Returns a complex number with the value real + imag*1j:\n",
    "\n",
    "print(complex(1, 2))  # Output: (1+2j)"
   ]
  },
  {
   "cell_type": "code",
   "execution_count": 17,
   "id": "709fbf68-7dce-4471-9e40-2ce8ae101112",
   "metadata": {},
   "outputs": [],
   "source": [
    "# delattr() - Deletes an attribute from the object:\n",
    "\n",
    "class Person:\n",
    "    name = 'John'\n",
    "delattr(Person, 'name')"
   ]
  },
  {
   "cell_type": "code",
   "execution_count": 20,
   "id": "8ef38bd4-f548-47d3-88f7-e31035b7301d",
   "metadata": {},
   "outputs": [
    {
     "name": "stdout",
     "output_type": "stream",
     "text": [
      "{'a': 1, 'b': 2}\n"
     ]
    }
   ],
   "source": [
    "class Person:\n",
    "    name = 'John'\n",
    "delattr(Person, 'name')\n",
    "# Person.name would now raise an AttributeError\n",
    "# dict() - Creates a dictionary:\n",
    "\n",
    "print(dict(a=1, b=2))  # Output: {'a': 1, 'b': 2}"
   ]
  },
  {
   "cell_type": "code",
   "execution_count": 22,
   "id": "3d0a808a-12b3-434b-bdcc-9e197632355c",
   "metadata": {},
   "outputs": [
    {
     "name": "stdout",
     "output_type": "stream",
     "text": [
      "['__add__', '__class__', '__class_getitem__', '__contains__', '__delattr__', '__delitem__', '__dir__', '__doc__', '__eq__', '__format__', '__ge__', '__getattribute__', '__getitem__', '__getstate__', '__gt__', '__hash__', '__iadd__', '__imul__', '__init__', '__init_subclass__', '__iter__', '__le__', '__len__', '__lt__', '__mul__', '__ne__', '__new__', '__reduce__', '__reduce_ex__', '__repr__', '__reversed__', '__rmul__', '__setattr__', '__setitem__', '__sizeof__', '__str__', '__subclasshook__', 'append', 'clear', 'copy', 'count', 'extend', 'index', 'insert', 'pop', 'remove', 'reverse', 'sort']\n"
     ]
    }
   ],
   "source": [
    "# dir() - Tries to return a list of valid attributes of the object:\n",
    "\n",
    "print(dir([1, 2, 3]))  # Output includes: ['append', 'clear', 'copy', etc...]\n"
   ]
  },
  {
   "cell_type": "code",
   "execution_count": 24,
   "id": "89f506fe-5426-45f0-b0b0-29ff9b37f42c",
   "metadata": {},
   "outputs": [
    {
     "name": "stdout",
     "output_type": "stream",
     "text": [
      "(2, 2)\n"
     ]
    }
   ],
   "source": [
    "# divmod() - Takes two (non complex) numbers as arguments and returns a pair of numbers consisting of their quotient and remainder when using integer division:\n",
    "print(divmod(8, 3))  # Output: (2, 2)"
   ]
  },
  {
   "cell_type": "code",
   "execution_count": 25,
   "id": "b34f26d0-01e1-49b4-a1bf-62154b2f7237",
   "metadata": {},
   "outputs": [
    {
     "data": {
      "text/plain": [
       "[(0, 'a'), (1, 'b'), (2, 'c')]"
      ]
     },
     "execution_count": 25,
     "metadata": {},
     "output_type": "execute_result"
    }
   ],
   "source": [
    "# enumerate() - Returns an enumerate object. It contains the index and value of all the items of an iterable as pairs:\n",
    "\n",
    "list(enumerate(['a', 'b', 'c']))  # Output: [(0, 'a'), (1, 'b'), (2, 'c')]"
   ]
  },
  {
   "cell_type": "code",
   "execution_count": 26,
   "id": "296ff16c-001c-492b-b863-42a12deba3ab",
   "metadata": {},
   "outputs": [
    {
     "name": "stdout",
     "output_type": "stream",
     "text": [
      "7\n"
     ]
    }
   ],
   "source": [
    "# eval() - Evaluates a string as a Python expression:\n",
    "print(eval('3 + 4'))  # Output: 7"
   ]
  },
  {
   "cell_type": "code",
   "execution_count": 27,
   "id": "e330abbb-89b1-4bbe-a018-710c842122a5",
   "metadata": {},
   "outputs": [
    {
     "name": "stdout",
     "output_type": "stream",
     "text": [
      "Hello, Alice\n"
     ]
    }
   ],
   "source": [
    "# memoryview() - Returns a memory view\n",
    "code = \"\"\"\n",
    "def say_hello(name):\n",
    "    return 'Hello, ' + name\n",
    "\n",
    "result = say_hello('Alice')\n",
    "\"\"\"\n",
    "exec(code)\n",
    "print(result)  # This will output: Hello, Alice"
   ]
  },
  {
   "cell_type": "code",
   "execution_count": 28,
   "id": "304608e5-9951-45c4-ae5c-2360b26ff023",
   "metadata": {},
   "outputs": [
    {
     "name": "stdout",
     "output_type": "stream",
     "text": [
      "[1, 2]\n"
     ]
    }
   ],
   "source": [
    "# filter() - Constructs an iterator from elements of an iterable for which a function returns true:\n",
    "print(list(filter(lambda x: x > 0, [-1, 0, 1, 2])))  # Output: [1, 2]"
   ]
  },
  {
   "cell_type": "code",
   "execution_count": 29,
   "id": "8377c936-b7d1-4018-9b1a-40c66d6cf810",
   "metadata": {},
   "outputs": [
    {
     "name": "stdout",
     "output_type": "stream",
     "text": [
      "3.5\n"
     ]
    }
   ],
   "source": [
    "# float() - Converts a string or a number to floating point:\n",
    "print(float(\"3.5\"))  # Output: 3.5"
   ]
  },
  {
   "cell_type": "code",
   "execution_count": 30,
   "id": "4727f838-4996-44c3-9550-a45b2db13c92",
   "metadata": {},
   "outputs": [
    {
     "name": "stdout",
     "output_type": "stream",
     "text": [
      "0123\n"
     ]
    }
   ],
   "source": [
    "# format() - Formats a specified value into a specified format:\n",
    "print(format(123, \"04d\"))  # Output: '0123'\n"
   ]
  },
  {
   "cell_type": "code",
   "execution_count": 31,
   "id": "1dfe596a-6533-4073-a640-3e4bba532483",
   "metadata": {},
   "outputs": [
    {
     "name": "stdout",
     "output_type": "stream",
     "text": [
      "frozenset({1, 2, 3})\n"
     ]
    }
   ],
   "source": [
    "# frozenset() - Returns an immutable frozenset object initialized with elements from the given iterable:\n",
    "print(frozenset([1, 2, 3, 2]))  # Output: frozenset({1, 2, 3})\n"
   ]
  },
  {
   "cell_type": "code",
   "execution_count": 32,
   "id": "17793690-deaa-4b15-9a4c-f3f16de03003",
   "metadata": {},
   "outputs": [
    {
     "name": "stdout",
     "output_type": "stream",
     "text": [
      "23\n"
     ]
    }
   ],
   "source": [
    "# getattr() - Returns the value of the named attribute of an object:\n",
    "class Person:\n",
    "    age = 23\n",
    "print(getattr(Person, 'age'))  # Output: 23\n"
   ]
  },
  {
   "cell_type": "code",
   "execution_count": 33,
   "id": "9c4c07e9-07e0-47ed-9648-da515d014fe0",
   "metadata": {},
   "outputs": [
    {
     "name": "stdout",
     "output_type": "stream",
     "text": [
      "False\n"
     ]
    }
   ],
   "source": [
    "# globals() - Returns a dictionary representing the current global symbol table:\n",
    "print('globals' in globals())  # Output: True\n"
   ]
  },
  {
   "cell_type": "code",
   "execution_count": 34,
   "id": "bb1d6adc-69fc-49ac-a307-321992ce4289",
   "metadata": {},
   "outputs": [
    {
     "name": "stdout",
     "output_type": "stream",
     "text": [
      "True\n"
     ]
    }
   ],
   "source": [
    "# hasattr() - Returns True if the object has the named attribute, otherwise False:\n",
    "class Person:\n",
    "    name = 'Alice'\n",
    "print(hasattr(Person, 'name'))  # Output: True\n"
   ]
  },
  {
   "cell_type": "code",
   "execution_count": 35,
   "id": "45c8e6fc-df01-4b02-89b8-3676be8a6eee",
   "metadata": {},
   "outputs": [
    {
     "name": "stdout",
     "output_type": "stream",
     "text": [
      "-4198156820545237601\n"
     ]
    }
   ],
   "source": [
    "# hash() - Returns the hash value of the object (if it has one):\n",
    "print(hash(\"test\"))  # Output: Hash value (varies)\n"
   ]
  },
  {
   "cell_type": "code",
   "execution_count": 36,
   "id": "8d5c96c1-d610-4186-8643-7219c6c03833",
   "metadata": {},
   "outputs": [
    {
     "name": "stdout",
     "output_type": "stream",
     "text": [
      "Help on built-in function print in module builtins:\n",
      "\n",
      "print(*args, sep=' ', end='\\n', file=None, flush=False)\n",
      "    Prints the values to a stream, or to sys.stdout by default.\n",
      "\n",
      "    sep\n",
      "      string inserted between values, default a space.\n",
      "    end\n",
      "      string appended after the last value, default a newline.\n",
      "    file\n",
      "      a file-like object (stream); defaults to the current sys.stdout.\n",
      "    flush\n",
      "      whether to forcibly flush the stream.\n",
      "\n"
     ]
    }
   ],
   "source": [
    "# help() - Calls the built-in Python help system:\n",
    "help(print)  # Displays the help page for the print function\n"
   ]
  },
  {
   "cell_type": "code",
   "execution_count": 37,
   "id": "0e2afabd-96c4-461e-9343-13c661077fbe",
   "metadata": {},
   "outputs": [
    {
     "name": "stdout",
     "output_type": "stream",
     "text": [
      "0xff\n"
     ]
    }
   ],
   "source": [
    "# hex() - Converts an integer number to a lowercase hexadecimal string prefixed with “0x”:\n",
    "print(hex(255))  # Output: '0xff'\n"
   ]
  },
  {
   "cell_type": "code",
   "execution_count": 38,
   "id": "e128fb0d-50fc-4177-b168-b60b4f257b40",
   "metadata": {},
   "outputs": [
    {
     "name": "stdout",
     "output_type": "stream",
     "text": [
      "2307449443344\n"
     ]
    }
   ],
   "source": [
    "# id() - Returns the “identity” of an object:\n",
    "obj = object()\n",
    "print(id(obj))  # Output: Unique identifier for the object\n"
   ]
  },
  {
   "cell_type": "code",
   "execution_count": 39,
   "id": "f1d1c9af-f870-4212-b378-d3448f3fa31f",
   "metadata": {},
   "outputs": [
    {
     "name": "stdin",
     "output_type": "stream",
     "text": [
      "Enter your name:  qwqw\n"
     ]
    }
   ],
   "source": [
    "# input() - Allows user input:\n",
    "name = input(\"Enter your name: \")  # Uncomment to use in an interactive environment\n"
   ]
  },
  {
   "cell_type": "code",
   "execution_count": 40,
   "id": "fbe89ac5-5884-43f7-85fa-21fcd340eaf5",
   "metadata": {},
   "outputs": [
    {
     "name": "stdout",
     "output_type": "stream",
     "text": [
      "10\n"
     ]
    }
   ],
   "source": [
    "# int() - Converts a string or number to an integer:\n",
    "print(int(\"10\"))  # Output: 10\n"
   ]
  },
  {
   "cell_type": "code",
   "execution_count": 41,
   "id": "fbbd8cea-3081-4b4c-8f58-e5a854ba99e2",
   "metadata": {},
   "outputs": [
    {
     "name": "stdout",
     "output_type": "stream",
     "text": [
      "True\n"
     ]
    }
   ],
   "source": [
    "# isinstance() - Checks if the object argument is an instance of the classinfo argument:\n",
    "print(isinstance(5, int))  # Output: True\n"
   ]
  },
  {
   "cell_type": "code",
   "execution_count": 42,
   "id": "d57e445d-ebe2-4096-86c2-7af5dddc39a5",
   "metadata": {},
   "outputs": [
    {
     "name": "stdout",
     "output_type": "stream",
     "text": [
      "True\n"
     ]
    }
   ],
   "source": [
    "# issubclass() - Checks if the object argument is a subclass of the classinfo argument:\n",
    "class Base:\n",
    "    pass\n",
    "class Derived(Base):\n",
    "    pass\n",
    "print(issubclass(Derived, Base))  # Output: True\n"
   ]
  },
  {
   "cell_type": "code",
   "execution_count": 43,
   "id": "3a52c23d-91a7-4d51-99ce-e4c53deb0149",
   "metadata": {},
   "outputs": [
    {
     "name": "stdout",
     "output_type": "stream",
     "text": [
      "1\n"
     ]
    }
   ],
   "source": [
    "# iter() - Returns an iterator object:\n",
    "lst = [1, 2, 3]\n",
    "it = iter(lst)\n",
    "print(next(it))  # Output: 1\n"
   ]
  },
  {
   "cell_type": "code",
   "execution_count": 44,
   "id": "ec3f86b0-0467-44ea-8753-d1c4157351ab",
   "metadata": {},
   "outputs": [
    {
     "name": "stdout",
     "output_type": "stream",
     "text": [
      "3\n"
     ]
    }
   ],
   "source": [
    "# len() - Returns the length (the number of items) of an object:\n",
    "print(len([1, 2, 3]))  # Output: 3\n"
   ]
  },
  {
   "cell_type": "code",
   "execution_count": 45,
   "id": "60dc1f86-cea6-4513-bc57-ca6cb14a1dc6",
   "metadata": {},
   "outputs": [
    {
     "name": "stdout",
     "output_type": "stream",
     "text": [
      "[1, 2, 3]\n"
     ]
    }
   ],
   "source": [
    "# list() - Constructs a list from any iterable:\n",
    "print(list((1, 2, 3)))  # Output: [1, 2, 3]\n"
   ]
  },
  {
   "cell_type": "code",
   "execution_count": 46,
   "id": "f3806b6b-807c-4403-ba75-b1e37d20e3f5",
   "metadata": {},
   "outputs": [
    {
     "name": "stdout",
     "output_type": "stream",
     "text": [
      "{'local_var': 1}\n"
     ]
    }
   ],
   "source": [
    "# locals() - Updates and returns a dictionary representing the current local symbol table:\n",
    "def test():\n",
    "    local_var = 1\n",
    "    print(locals())\n",
    "test()  # Output includes local_var\n"
   ]
  },
  {
   "cell_type": "code",
   "execution_count": 47,
   "id": "e0814d8d-b1b7-48e1-9036-25ca55102b45",
   "metadata": {},
   "outputs": [
    {
     "name": "stdout",
     "output_type": "stream",
     "text": [
      "['1', '2', '3']\n"
     ]
    }
   ],
   "source": [
    "# map() - Applies a function to all the items in an input_list:\n",
    "print(list(map(str, [1, 2, 3])))  # Output: ['1', '2', '3']\n"
   ]
  },
  {
   "cell_type": "code",
   "execution_count": 48,
   "id": "9057611e-af2f-4515-9914-6e8da660420b",
   "metadata": {},
   "outputs": [
    {
     "name": "stdout",
     "output_type": "stream",
     "text": [
      "4\n"
     ]
    }
   ],
   "source": [
    "# max() - Returns the largest item in an iterable or the largest of two or more arguments:\n",
    "print(max([1, 2, 3, 4]))  # Output: 4\n"
   ]
  },
  {
   "cell_type": "code",
   "execution_count": 49,
   "id": "ff888972-f13c-410d-998d-f5bdd13c502a",
   "metadata": {},
   "outputs": [
    {
     "name": "stdout",
     "output_type": "stream",
     "text": [
      "b'Hello, world!'\n",
      "b'Hello, Earth!'\n"
     ]
    }
   ],
   "source": [
    "# The memoryview() function in Python returns a memory view object of the given argument.\n",
    "# Create a byte array\n",
    "data = bytearray(b'Hello, world!')\n",
    "\n",
    "# Create a memory view on the byte array\n",
    "mem_view = memoryview(data)\n",
    "\n",
    "# Print original data\n",
    "print(mem_view.tobytes())  # Output: b'Hello, world!'\n",
    "\n",
    "# Modify the memory view\n",
    "mem_view[7:12] = b'Earth'\n",
    "\n",
    "# Print modified data\n",
    "print(mem_view.tobytes())  # Output: b'Hello, Earth!'\n"
   ]
  },
  {
   "cell_type": "code",
   "execution_count": null,
   "id": "f3d6b9c1-4c93-43c5-842a-37a7533fb249",
   "metadata": {},
   "outputs": [],
   "source": []
  }
 ],
 "metadata": {
  "kernelspec": {
   "display_name": "Python 3 (ipykernel)",
   "language": "python",
   "name": "python3"
  },
  "language_info": {
   "codemirror_mode": {
    "name": "ipython",
    "version": 3
   },
   "file_extension": ".py",
   "mimetype": "text/x-python",
   "name": "python",
   "nbconvert_exporter": "python",
   "pygments_lexer": "ipython3",
   "version": "3.12.0"
  }
 },
 "nbformat": 4,
 "nbformat_minor": 5
}
