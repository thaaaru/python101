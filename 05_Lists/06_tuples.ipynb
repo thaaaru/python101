{
 "cells": [
  {
   "cell_type": "code",
   "execution_count": 4,
   "id": "2ff40408-09b0-40e0-9f0f-f6b854a677a9",
   "metadata": {},
   "outputs": [],
   "source": [
    "empty_tuple = ()"
   ]
  },
  {
   "cell_type": "code",
   "execution_count": 2,
   "id": "5a463c67-c2e3-49bb-abc6-dfcb2d5d99cc",
   "metadata": {},
   "outputs": [],
   "source": [
    "empty_tuple = tuple()"
   ]
  },
  {
   "cell_type": "code",
   "execution_count": 5,
   "id": "2783e32e-2ee4-4ea2-85e9-20c7fe2f6e13",
   "metadata": {},
   "outputs": [
    {
     "name": "stdout",
     "output_type": "stream",
     "text": [
      "()\n"
     ]
    }
   ],
   "source": [
    "print(empty_tuple)"
   ]
  },
  {
   "cell_type": "code",
   "execution_count": 6,
   "id": "ac27a01b-3b1a-41a4-8cbd-ebeecd39bb3f",
   "metadata": {},
   "outputs": [],
   "source": [
    "tpl = ('item1', 'item2','item3')"
   ]
  },
  {
   "cell_type": "code",
   "execution_count": 7,
   "id": "a27c7100-95ce-4265-9539-02cc5fd8b7ad",
   "metadata": {},
   "outputs": [
    {
     "name": "stdout",
     "output_type": "stream",
     "text": [
      "('item1', 'item2', 'item3')\n"
     ]
    }
   ],
   "source": [
    "print(tpl)"
   ]
  },
  {
   "cell_type": "code",
   "execution_count": 8,
   "id": "68cf4808-fca5-4510-88f4-45148309de19",
   "metadata": {},
   "outputs": [
    {
     "name": "stdout",
     "output_type": "stream",
     "text": [
      "('banana', 'orange', 'mango', 'lemon')\n"
     ]
    }
   ],
   "source": [
    "fruits = ('banana', 'orange', 'mango', 'lemon')\n",
    "print(fruits)"
   ]
  },
  {
   "cell_type": "code",
   "execution_count": 9,
   "id": "62c3c49c-4ba3-4216-b9e6-166e1eedd150",
   "metadata": {},
   "outputs": [
    {
     "data": {
      "text/plain": [
       "3"
      ]
     },
     "execution_count": 9,
     "metadata": {},
     "output_type": "execute_result"
    }
   ],
   "source": [
    "tpl = ('item1', 'item2', 'item3')\n",
    "len(tpl)"
   ]
  },
  {
   "cell_type": "code",
   "execution_count": 10,
   "id": "6f5c26bb-1974-451c-91ee-403dc0d693ab",
   "metadata": {},
   "outputs": [],
   "source": [
    "tpl = ('item1', 'item2', 'item3')"
   ]
  },
  {
   "cell_type": "code",
   "execution_count": 11,
   "id": "1c8d1a63-95e3-4163-b3e6-cf87e48bdcc5",
   "metadata": {},
   "outputs": [],
   "source": [
    "  first_item = tpl[0]\n",
    "  second_item = tpl[1]"
   ]
  },
  {
   "cell_type": "code",
   "execution_count": 12,
   "id": "4b1c1a14-9b85-47f5-907d-f154c53f1498",
   "metadata": {},
   "outputs": [
    {
     "name": "stdout",
     "output_type": "stream",
     "text": [
      "item1\n",
      "item2\n"
     ]
    }
   ],
   "source": [
    "print(first_item)\n",
    "print(second_item)"
   ]
  },
  {
   "cell_type": "code",
   "execution_count": 14,
   "id": "80ba6920-480b-4b54-b1cb-16ad1e079d2e",
   "metadata": {},
   "outputs": [],
   "source": [
    "  fruits = ('banana', 'orange', 'mango', 'lemon')\n",
    "  first_fruit = fruits[0]\n",
    "  second_fruit = fruits[1]\n",
    "  last_index =len(fruits) - 1\n",
    "  last_fruit = fruits[last_index]"
   ]
  },
  {
   "cell_type": "code",
   "execution_count": 15,
   "id": "4014f359-16a3-4784-8e5a-82049b8c0a4f",
   "metadata": {},
   "outputs": [
    {
     "name": "stdout",
     "output_type": "stream",
     "text": [
      "('banana', 'orange', 'mango', 'lemon')\n",
      "banana\n",
      "orange\n",
      "3\n",
      "lemon\n"
     ]
    }
   ],
   "source": [
    "print(fruits)\n",
    "print(first_fruit)\n",
    "print(second_fruit)\n",
    "print(last_index)\n",
    "print(last_fruit)\n"
   ]
  },
  {
   "cell_type": "code",
   "execution_count": null,
   "id": "aa833943-08cd-423d-94d0-3293014b6e3b",
   "metadata": {},
   "outputs": [],
   "source": []
  }
 ],
 "metadata": {
  "kernelspec": {
   "display_name": "Python 3 (ipykernel)",
   "language": "python",
   "name": "python3"
  },
  "language_info": {
   "codemirror_mode": {
    "name": "ipython",
    "version": 3
   },
   "file_extension": ".py",
   "mimetype": "text/x-python",
   "name": "python",
   "nbconvert_exporter": "python",
   "pygments_lexer": "ipython3",
   "version": "3.12.0"
  }
 },
 "nbformat": 4,
 "nbformat_minor": 5
}
