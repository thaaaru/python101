{
 "cells": [
  {
   "cell_type": "markdown",
   "metadata": {},
   "source": [
    "<H1>01 - Introduction to Python</H1>"
   ]
  },
  {
   "cell_type": "raw",
   "metadata": {},
   "source": [
    "How to Install Python IDE\r\n",
    "Below is a step by step process on how to download and install Python on Windows:\r\n",
    "\r\n",
    "Step 1) To download and install Python, visit the official website of Python https://www.python.org/downloads/ and choose your version. We have chosen Python version 3.6.3"
   ]
  },
  {
   "cell_type": "raw",
   "metadata": {},
   "source": [
    "https://www.python.org/downloads/windows/\n",
    "\n",
    "Note that Python 3.12.3 cannot be used on Windows 7 or earlier.\n",
    "\n",
    "Download Windows installer (64-bit)"
   ]
  },
  {
   "cell_type": "markdown",
   "metadata": {},
   "source": [
    "<img src=\"../files/images/image1.png\">"
   ]
  },
  {
   "cell_type": "code",
   "execution_count": null,
   "metadata": {},
   "outputs": [],
   "source": []
  },
  {
   "cell_type": "markdown",
   "metadata": {},
   "source": [
    "<img src=\"../files/images/Python2.png\">"
   ]
  },
  {
   "cell_type": "markdown",
   "metadata": {},
   "source": [
    "<img src=\"../files/images/Python3.webp\">"
   ]
  },
  {
   "cell_type": "markdown",
   "metadata": {},
   "source": [
    "Python is a programming language that has been under development for over 25 years [1].\n",
    "\n",
    "This Chapter will not cover everything in Python. If you would like, please consider the following resources:\n",
    "\n",
    "**Getting Started with Python**:\n",
    "\n",
    "* https://www.codecademy.com/learn/python\n",
    "* http://docs.python-guide.org/en/latest/intro/learning/\n",
    "* https://learnpythonthehardway.org/book/\n",
    "* https://www.codementor.io/learn-python-online\n",
    "* https://websitesetup.org/python-cheat-sheet/\n",
    "\n",
    "**Learning Python in Notebooks**:\n",
    "\n",
    "* http://mbakker7.github.io/exploratory_computing_with_python/\n",
    "\n",
    "This is handy to always have available for reference:\n",
    "\n",
    "**Python Reference**:\n",
    "\n",
    "* https://docs.python.org/3.5/reference/\n"
   ]
  },
  {
   "cell_type": "markdown",
   "metadata": {},
   "source": [
    "Python - Interactive Mode Programming\n",
    "We can invoke a Python interpreter from command line by typing python at the command prompt as following"
   ]
  },
  {
   "cell_type": "raw",
   "metadata": {},
   "source": [
    "$ python3\n",
    "Python 3.10.6 (main, Mar 10 2023, 10:55:28) [GCC 11.3.0] on linux\n",
    "Type \"help\", \"copyright\", \"credits\" or \"license\" for more information.\n",
    ">>>"
   ]
  },
  {
   "cell_type": "markdown",
   "metadata": {},
   "source": [
    "Here >>> denotes a Python Command Prompt where you can type your commands. \n",
    "Let's type the following text at the Python prompt and press the Enter −"
   ]
  },
  {
   "cell_type": "markdown",
   "metadata": {},
   "source": [
    "<style>\n",
    "r { color: Red }\n",
    "o { color: Orange }\n",
    "g { color: Green }\n",
    "</style>\n",
    "\n",
    "# TODOs:\n",
    "\n",
    "- <span style=\"color:red\">TODO:</r> Important thing to do\n",
    "- <o>TODO:</o> Less important thing to do\n",
    "- <g>DONE:</g> Breath deeply and improve karma\n"
   ]
  },
  {
   "cell_type": "markdown",
   "metadata": {},
   "source": [
    "Python <span style=\"color:orange\"> 3.10.6 </span> (main, Mar <span style=\"color:orange\"> 10 2023, 10:55:28) [GCC 11.3.0] </span> on linux\n",
    "<br><span style=\"color:green\"> Type \"help\", \"copyright\", \"credits\" or \"license\" for more information.\n",
    "<br>>>></span>\n"
   ]
  },
  {
   "cell_type": "markdown",
   "metadata": {},
   "source": [
    "**Python - Script Mode Programming<br>**\n",
    "We can invoke the Python interpreter with a script parameter which begins the execution of the script and continues until the script is finished. When the script is finished, the interpreter is no longer active.\n",
    "<br><br>\n",
    "Let us write a simple Python program in a script which is simple text file. Python files have extension .py. Type the following source code in a **test.py** file −<br>\n",
    "<br>\n",
    "<span style=\"color:blue\">print</span> <span style=\"color:green\">(\"Hello, World!\")</span>\n"
   ]
  },
  {
   "cell_type": "markdown",
   "metadata": {},
   "source": [
    "We assume that you have Python interpreter path set in PATH variable. Now, let's try to run this program as follows −\n",
    "\n",
    "$ python3 test.py\n",
    "\n",
    "This produces the following result −\n",
    "\n",
    "<span style=\"color:green\">(\"Hello, World!\")</span>"
   ]
  },
  {
   "cell_type": "markdown",
   "metadata": {},
   "source": [
    "<h2>Python Identifiers</h2>\n",
    "<p>A Python identifier is a name used to identify a <a href=\"/python/python_variables.htm\" target=\"_blank\">variable</a>, <a href=\"/python/python_functions.htm\" target=\"_blank\">function</a>, <a href=\"/python/python_object_classes.htm\" target=\"_blank\">class</a>, <a href=\"/python/python_modules.htm\" target=\"_blank\">module</a> or other object. An identifier starts with a letter A to Z or a to z or an underscore (_) followed by zero or more letters, underscores and digits (0 to 9).</p>\n",
    "<p>Python does not allow punctuation characters such as &commat;, $, and % within identifiers.</p>\n",
    "<blockquote>Python is a case sensitive programming language. Thus, <b>Manpower</b> and <b>manpower</b> are two different identifiers in Python.</blockquote>\n",
    "\n",
    "<p>Here are naming conventions for Python identifiers &minus;</p>\n",
    "<ul class=\"list\">\n",
    "<li><p>Python Class names start with an uppercase letter. All other identifiers start with a lowercase letter.</p></li>\n",
    "<li><p>Starting an identifier with a single leading underscore indicates that the identifier is <b>private</b> identifier.</p></li>\n",
    "<li><p>Starting an identifier with two leading underscores indicates a strongly <b>private</b> identifier.</p></li>\n",
    "<li><p>If the identifier also ends with two trailing underscores, the identifier is a <b>language-defined</b> special name.</p></li>\n",
    "</ul>\n",
    "<h2>Python Reserved Words</h2>\n",
    "<p>The following list shows the Python keywords. These are reserved words and you cannot use them as constant or variable or any other identifier names. All the Python keywords contain lowercase letters only.</p>\n",
    "<div class=\"table-wrapper\"><table class=\"table table-bordered\" style=\"text-align:center;\">\n",
    "<tr>\n",
    "<td>and</td>\n",
    "<td>as</td>\n",
    "<td>assert</td>\n",
    "</tr>\n",
    "<tr>\n",
    "<td>break</td>\n",
    "<td>class</td>\n",
    "<td>continue</td>\n",
    "</tr>\n",
    "<tr>\n",
    "<td>def</td>\n",
    "<td>del</td>\n",
    "<td>elif</td>\n",
    "</tr>\n",
    "<tr>\n",
    "<td>else</td>\n",
    "<td>except</td>\n",
    "<td>False</td>\n",
    "</tr>\n",
    "<tr>\n",
    "<td>finally</td>\n",
    "<td>for</td>\n",
    "<td>from</td>\n",
    "</tr>\n",
    "<tr>\n",
    "<td>global</td>\n",
    "<td>if</td>\n",
    "<td>import</td>\n",
    "</tr>\n",
    "<tr>\n",
    "<td>in</td>\n",
    "<td>is</td>\n",
    "<td>lambda</td>\n",
    "</tr>\n",
    "<tr>\n",
    "<td>None</td>\n",
    "<td>nonlocal</td>\n",
    "<td>not</td>\n",
    "</tr>\n",
    "<tr>\n",
    "<td>or</td>\n",
    "<td>pass</td>\n",
    "<td>raise </td>\n",
    "</tr>\n",
    "<tr>\n",
    "<td>return</td>\n",
    "<td>True</td>\n",
    "<td>try</td>\n",
    "</tr>\n",
    "<tr>\n",
    "<td>while</td>\n",
    "<td>with</td>\n",
    "<td>yield</td>\n",
    "</tr>\n",
    "</table></div>"
   ]
  },
  {
   "cell_type": "markdown",
   "metadata": {},
   "source": [
    "<h2>Python Lines and Indentation</h2>\n",
    "<p>Python programming provides no braces to indicate blocks of code for class and function definitions or flow control. Blocks of code are denoted by <b>line indentation</b>, which is rigidly enforced.</p>\n",
    "<p>The number of spaces in the indentation is variable, but all statements within the block must be indented the same amount. For example &minus;</p>\n",
    "<pre class=\"just-code notranslate language-python\" data-lang=\"python3\">\n",
    "if True:\n",
    "   print (\"True\")\n",
    "else:\n",
    "   print (\"False\")\n",
    "</pre>\n",
    "<p>However, the following block generates an error &minus;</p>\n",
    "<pre class=\"demo-code notranslate language-python\" data-lang=\"python3\">\n",
    "if True:\n",
    "   print (\"Answer\")\n",
    "   print (\"True\")\n",
    "else:\n",
    "   print (\"Answer\")\n",
    "   print (\"False\")\n",
    "</pre>"
   ]
  },
  {
   "cell_type": "markdown",
   "metadata": {},
   "source": [
    "import sys\n",
    "\n",
    "try:\n",
    "   # open file stream\n",
    "   file = open(file_name, \"w\")\n",
    "except IOError:\n",
    "   print \"There was an error writing to\", file_name\n",
    "   sys.exit()\n",
    "print \"Enter '\", file_finish,\n",
    "print \"' When finished\"\n",
    "while file_text != file_finish:\n",
    "   file_text = raw_input(\"Enter text: \")\n",
    "   if file_text == file_finish:\n",
    "      # close the file\n",
    "      file.close\n",
    "      break\n",
    "   file.write(file_text)\n",
    "   file.write(\"\\n\")\n",
    "file.close()\n",
    "file_name = raw_input(\"Enter filename: \")\n",
    "if len(file_name) == 0:\n",
    "   print \"Next time please enter something\"\n",
    "   sys.exit()\n",
    "try:\n",
    "   file = open(file_name, \"r\")\n",
    "except IOError:\n",
    "   print \"There was an error reading file\"\n",
    "   sys.exit()\n",
    "file_text = file.read()\n",
    "file.close()\n",
    "print file_text\n"
   ]
  },
  {
   "cell_type": "markdown",
   "metadata": {},
   "source": [
    "<h2>Python Multi-Line Statements</h2>\n",
    "<p>Statements in Python typically end with a new line. Python does, however, allow the use of the line continuation character (\\) to denote that the line should continue. For example &minus;</p>\n",
    "<pre class=\"just-code notranslate language-python\" data-lang=\"python3\">\n",
    "total = item_one + \\\n",
    "        item_two + \\\n",
    "        item_three\n",
    "</pre>\n",
    "<p>Statements contained within the [], {}, or () brackets do not need to use the line continuation character. For example following statement works well in Python &minus;</p>\n",
    "<pre class=\"just-code notranslate language-python\" data-lang=\"python3\">\n",
    "days = ['Monday', 'Tuesday', 'Wednesday',\n",
    "        'Thursday', 'Friday']\n",
    "</pre>\n",
    "<h2>Quotations in Python</h2>\n",
    "<p>Python accepts single ('), double (\") and triple (''' or \"\"\") quotes to denote string literals, as long as the same type of quote starts and ends the string.</p>\n",
    "<p>The triple quotes are used to span the string across multiple lines. For example, all the following are legal &minus;</p>\n",
    "<pre class=\"just-code notranslate language-python\" data-lang=\"python3\">\n",
    "word = 'word'\n",
    "print (word)\n",
    "\n",
    "sentence = \"This is a sentence.\"\n",
    "print (sentence)\n",
    "\n",
    "paragraph = \"\"\"This is a paragraph. It is\n",
    " made up of multiple lines and sentences.\"\"\"\n",
    "print (paragraph)"
   ]
  },
  {
   "cell_type": "markdown",
   "metadata": {},
   "source": [
    "<h2>Comments in Python</h2>\n",
    "<p>A comment is a programmer-readable explanation or annotation in the Python source code. They are added with the purpose of making the source code easier for humans to understand, and are ignored by Python interpreter</p>\n",
    "<p>Just like most modern languages, Python supports single-line (or end-of-line) and multi-line (block) comments. <a href=\"/python/python_comments.htm\" target=\"_blank\">Python comments</a> are very much similar to the comments available in PHP, BASH and Perl Programming languages.</p>\n",
    "\n",
    "<p>A hash sign (#) that is not inside a string literal begins a comment. All characters after the # and up to the end of the physical line are part of the comment and the Python interpreter ignores them.</p>\n",
    "\n",
    "<pre class=\"demo-code notranslate language-python\" data-lang=\"python3\">\n",
    "# First comment\n",
    "print (\"Hello, World!\") # Second comment\n",
    "</pre>\n",
    "<p>This produces the following result &minus;</p>\n",
    "<pre class=\"result notranslate\">\n",
    "Hello, World!\n",
    "</pre>\n",
    "<p>You can type a comment on the same line after a statement or expression &minus;</p>\n",
    "<pre class=\"just-code notranslate language-python\" data-lang=\"python3\">\n",
    "name = \"Madisetti\" # This is again comment\n",
    "</pre>\n",
    "<p>You can comment multiple lines as follows &minus;</p>\n",
    "<pre class=\"just-code notranslate language-python\" data-lang=\"python3\">\n",
    "# This is a comment.\n",
    "# This is a comment, too.\n",
    "# This is a comment, too.\n",
    "# I said that already.\n",
    "</pre>\n",
    "<p>Following triple-quoted string is also ignored by Python interpreter and can be used as a multiline comments:</p>\n",
    "<h2>Using Blank Lines in Python Programs</h2>\n",
    "<p>A line containing only whitespace, possibly with a comment, is known as a blank line and Python totally ignores it.</p>\n",
    "<p>In an interactive interpreter session, you must enter an empty physical line to terminate a multiline statement.</p>\n",
    "<h2>Waiting for the User</h2>\n",
    "<p>The following line of the program displays the prompt, the statement saying “Press the enter key to exit”, and waits for the user to take action &minus;</p>\n",
    "<pre class=\"just-code notranslate language-python\" data-lang=\"python3\">\n",
    "#!/usr/bin/python\n",
    "\n",
    "raw_input(\"\\n\\nPress the enter key to exit.\")"
   ]
  },
  {
   "cell_type": "markdown",
   "metadata": {},
   "source": [
    "<p>Here, \"\\n\\n\" is used to create two new lines before displaying the actual line. Once the user presses the key, the program ends. This is a nice trick to keep a console window open until the user is done with an application.</p>\n",
    "<h2>Multiple Statements on a Single Line</h2>\n",
    "<p>The semicolon ( ; ) allows multiple statements on the single line given that neither statement starts a new code block. Here is a sample snip using the semicolon &minus;</p>\n",
    "<pre class=\"demo-code notranslate language-python\" data-lang=\"python3\">\n",
    "import sys; x = 'foo'; sys.stdout.write(x + '\\n')\n",
    "</pre>\n",
    "<h2>Multiple Statement Groups as Suites</h2>\n",
    "<p>A group of individual statements, which make a single code block are called <b>suites</b> in Python. Compound or complex statements, such as if, while, def, and class require a header line and a suite.</p>\n",
    "<p>Header lines begin the statement (with the keyword) and terminate with a colon ( : ) and are followed by one or more lines which make up the suite. For example &minus;</p>\n",
    "<pre class=\"just-code notranslate language-python\" data-lang=\"python3\">\n",
    "if expression :\n",
    "   suite\n",
    "elif expression :\n",
    "   suite\n",
    "else :\n",
    "   suite"
   ]
  },
  {
   "cell_type": "markdown",
   "metadata": {},
   "source": [
    "<h2>Command Line Arguments in Python</h2>\n",
    "<p>Many programs can be run to provide you with some basic information about how they should be run. Python enables you to do this with -h &minus;</p>\n",
    "<pre class=\"just-code notranslate language-python\" data-lang=\"python3\">\n",
    "$ python3 -h\n",
    "usage: python3 [option] ... [-c cmd | -m mod | file | -] [arg] ...\n",
    "Options and arguments (and corresponding environment variables):\n",
    "-c cmd : program passed in as string (terminates option list)\n",
    "-d     : debug output from parser (also PYTHONDEBUG=x)\n",
    "-E     : ignore environment variables (such as PYTHONPATH)\n",
    "-h     : print this help message and exit\n",
    "\t"
   ]
  },
  {
   "cell_type": "markdown",
   "metadata": {
    "jp-MarkdownHeadingCollapsed": true
   },
   "source": [
    "## 1.1 Statements"
   ]
  },
  {
   "cell_type": "markdown",
   "metadata": {},
   "source": [
    "Python is an [imperative language](https://en.wikipedia.org/wiki/Imperative_programming) based on [statements](https://en.wikipedia.org/wiki/Statement_(computer_science&#41;). That is, programs in Python consists of lines composed of statements. A statement can be:\n",
    "\n",
    "* a single expression\n",
    "* an assignment\n",
    "* a function call\n",
    "* a function definition\n",
    "* a statement; statement"
   ]
  },
  {
   "cell_type": "markdown",
   "metadata": {},
   "source": [
    "### 1.1.1 Expressions"
   ]
  },
  {
   "cell_type": "markdown",
   "metadata": {},
   "source": [
    "* Numbers\n",
    "  * integers\n",
    "  * floating-point\n",
    "  * complex numbers\n",
    "* strings\n",
    "* boolean values\n",
    "* lists and dicts"
   ]
  },
  {
   "cell_type": "markdown",
   "metadata": {},
   "source": [
    "#### 1.1.1.1 Numbers"
   ]
  },
  {
   "cell_type": "code",
   "execution_count": 1,
   "metadata": {
    "collapsed": false,
    "jupyter": {
     "outputs_hidden": false
    }
   },
   "outputs": [
    {
     "data": {
      "text/plain": [
       "1"
      ]
     },
     "execution_count": 1,
     "metadata": {},
     "output_type": "execute_result"
    }
   ],
   "source": [
    "1"
   ]
  },
  {
   "cell_type": "code",
   "execution_count": 2,
   "metadata": {},
   "outputs": [
    {
     "data": {
      "text/plain": [
       "2"
      ]
     },
     "execution_count": 2,
     "metadata": {},
     "output_type": "execute_result"
    }
   ],
   "source": [
    "2"
   ]
  },
  {
   "cell_type": "code",
   "execution_count": 3,
   "metadata": {
    "collapsed": false,
    "jupyter": {
     "outputs_hidden": false
    }
   },
   "outputs": [
    {
     "data": {
      "text/plain": [
       "-3"
      ]
     },
     "execution_count": 3,
     "metadata": {},
     "output_type": "execute_result"
    }
   ],
   "source": [
    "-3"
   ]
  },
  {
   "cell_type": "code",
   "execution_count": 4,
   "metadata": {
    "collapsed": false,
    "jupyter": {
     "outputs_hidden": false
    }
   },
   "outputs": [
    {
     "data": {
      "text/plain": [
       "2"
      ]
     },
     "execution_count": 4,
     "metadata": {},
     "output_type": "execute_result"
    }
   ],
   "source": [
    "1\n",
    "2"
   ]
  },
  {
   "cell_type": "code",
   "execution_count": 5,
   "metadata": {
    "collapsed": false,
    "jupyter": {
     "outputs_hidden": false
    }
   },
   "outputs": [
    {
     "data": {
      "text/plain": [
       "3.14"
      ]
     },
     "execution_count": 5,
     "metadata": {},
     "output_type": "execute_result"
    }
   ],
   "source": [
    "3.14"
   ]
  },
  {
   "cell_type": "markdown",
   "metadata": {},
   "source": [
    "#### 1.1.1.2 Strings"
   ]
  },
  {
   "cell_type": "code",
   "execution_count": null,
   "metadata": {
    "collapsed": false,
    "jupyter": {
     "outputs_hidden": false
    }
   },
   "outputs": [],
   "source": [
    "'apple'"
   ]
  },
  {
   "cell_type": "code",
   "execution_count": null,
   "metadata": {
    "collapsed": false,
    "jupyter": {
     "outputs_hidden": false
    }
   },
   "outputs": [],
   "source": [
    "\"apple\""
   ]
  },
  {
   "cell_type": "markdown",
   "metadata": {},
   "source": [
    "Notice that the Out might not match exactly the In. In the above example, we used double-quotes but the representation of the string used single-quotes. Python will default to showing representations of values using single-quotes, if it can."
   ]
  },
  {
   "cell_type": "markdown",
   "metadata": {},
   "source": [
    "#### 1.1.1.3 Boolean Values"
   ]
  },
  {
   "cell_type": "code",
   "execution_count": null,
   "metadata": {
    "collapsed": false,
    "jupyter": {
     "outputs_hidden": false
    }
   },
   "outputs": [],
   "source": [
    "True"
   ]
  },
  {
   "cell_type": "code",
   "execution_count": null,
   "metadata": {
    "collapsed": false,
    "jupyter": {
     "outputs_hidden": false
    }
   },
   "outputs": [],
   "source": [
    "False"
   ]
  },
  {
   "cell_type": "markdown",
   "metadata": {},
   "source": [
    "#### 1.1.1.4 Lists and Dicts"
   ]
  },
  {
   "cell_type": "markdown",
   "metadata": {},
   "source": [
    "Python has three very useful data structures built into the language:\n",
    "\n",
    "* dictionaries (hash tables): {}\n",
    "* lists: []\n",
    "* tuples: (item, ...)\n",
    "\n",
    "List is a mutable list of items. Tuple is a read-only data structure (immutable)."
   ]
  },
  {
   "cell_type": "code",
   "execution_count": null,
   "metadata": {
    "collapsed": false,
    "jupyter": {
     "outputs_hidden": false
    }
   },
   "outputs": [],
   "source": [
    "[1, 2, 3]"
   ]
  },
  {
   "cell_type": "code",
   "execution_count": null,
   "metadata": {
    "collapsed": false,
    "jupyter": {
     "outputs_hidden": false
    }
   },
   "outputs": [],
   "source": [
    "(1, 2, 3)"
   ]
  },
  {
   "cell_type": "code",
   "execution_count": null,
   "metadata": {
    "collapsed": false,
    "jupyter": {
     "outputs_hidden": false
    }
   },
   "outputs": [],
   "source": [
    "1, 2, 3"
   ]
  },
  {
   "cell_type": "code",
   "execution_count": 6,
   "metadata": {},
   "outputs": [
    {
     "data": {
      "text/plain": [
       "{'apple': 'a fruit', 'banana': 'an herb', 'monkey': 'a mammal'}"
      ]
     },
     "execution_count": 6,
     "metadata": {},
     "output_type": "execute_result"
    }
   ],
   "source": [
    "{\"apple\": \"a fruit\", \"banana\": \"an herb\", \"monkey\": \"a mammal\"}"
   ]
  },
  {
   "cell_type": "code",
   "execution_count": 7,
   "metadata": {
    "collapsed": false,
    "jupyter": {
     "outputs_hidden": false
    }
   },
   "outputs": [
    {
     "data": {
      "text/plain": [
       "'a fruit'"
      ]
     },
     "execution_count": 7,
     "metadata": {},
     "output_type": "execute_result"
    }
   ],
   "source": [
    "{\"apple\": \"a fruit\", \"banana\": \"an herb\", \"monkey\": \"a mammal\"}[\"apple\"]"
   ]
  },
  {
   "cell_type": "code",
   "execution_count": null,
   "metadata": {
    "collapsed": false,
    "jupyter": {
     "outputs_hidden": false
    }
   },
   "outputs": [],
   "source": [
    "print(1)"
   ]
  },
  {
   "cell_type": "markdown",
   "metadata": {},
   "source": [
    "<H1>References</H1>\n",
    "\n",
    "[1] https://en.wikipedia.org/wiki/History_of_Python"
   ]
  }
 ],
 "metadata": {
  "kernelspec": {
   "display_name": "Python 3 (ipykernel)",
   "language": "python",
   "name": "python3"
  },
  "language_info": {
   "codemirror_mode": {
    "name": "ipython",
    "version": 3
   },
   "file_extension": ".py",
   "mimetype": "text/x-python",
   "name": "python",
   "nbconvert_exporter": "python",
   "pygments_lexer": "ipython3",
   "version": "3.12.0"
  }
 },
 "nbformat": 4,
 "nbformat_minor": 4
}
